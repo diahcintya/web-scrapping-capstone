{
 "cells": [
  {
   "cell_type": "markdown",
   "metadata": {},
   "source": [
    "# Capstone Webscrapping using BeautifulSoup\n",
    "\n",
    "This notebook contains guidances & tasks on the data processing for the application of using BeautifulSoup to do webscrapping project. \n",
    "\n",
    "## Background\n",
    "\n",
    "Cryptocurrency has been gaining popularity recently. One of the cryptocurrency that has attracted investor is Ethereum. Ethereum is a decentralized, open-source blockchain with smart contract functionality. Ether is the native cryptocurrency of the platform. Amongst cryptocurrencies, Ether is second only to Bitcoin in market capitalization (wikipedia). This project tried to capture the volatility of ethereum's volume transaction for the past year from Januari 2020 to June 2021. The Data for this project were scrapped from this https://www.coingecko.com/en/coins/ethereum/historical_data/usd?start_date=2020-01-01&end_date=2021-06-30#panel. We scrapped the data, cleaned, did the analysis and conclude insight for the ethereum's volume transaction. \n",
    "\n",
    "## Requesting the Data and Creating a BeautifulSoup\n",
    "\n",
    "Let's begin with requesting the web from the site with `get` method.d"
   ]
  },
  {
   "cell_type": "code",
   "execution_count": 2,
   "metadata": {
    "ExecuteTime": {
     "end_time": "2020-01-13T05:12:23.275508Z",
     "start_time": "2020-01-13T05:12:20.009898Z"
    }
   },
   "outputs": [],
   "source": [
    "import requests\n",
    "\n",
    "url_get = requests.get('https://www.coingecko.com/en/coins/ethereum/historical_data/usd?start_date=2020-01-01&end_date=2021-06-30#panel')"
   ]
  },
  {
   "cell_type": "markdown",
   "metadata": {},
   "source": [
    "To visualize what exactly you get from the `request.get`, we can use .content so we can see what we exactly get, in here I slice it so it won't make our screen full of the html we get from the page. You can delete the slicing if you want to see what we fully get."
   ]
  },
  {
   "cell_type": "code",
   "execution_count": 32,
   "metadata": {
    "ExecuteTime": {
     "end_time": "2020-01-13T05:12:23.290648Z",
     "start_time": "2020-01-13T05:12:23.277650Z"
    }
   },
   "outputs": [
    {
     "data": {
      "text/plain": [
       "b'!DOCTYPE html>\\n<html lang=\"en\">\\n<head>\\n<meta charset=\"utf-8\">\\n<meta http-equiv=\"X-UA-Compatible\" content=\"IE=edge\">\\n<script>window.NREUM||(NREUM={});NREUM.info={\"beacon\":\"bam-cell.nr-data.net\",\"errorBeacon\":\"bam-cell.nr-data.net\",\"licenseKey\":\"cd4a6493ab\",\"applicationID\":\"83495717\",\"transactionName\":\"dV5dRBNcDlkEEU5SDF9fQB8JWhFBDhEIUgJabldRFVI=\",\"queueTime\":2,\"applicationTime\":230,\"agent\":\"\"}</script>\\n<script>(window.NREUM||(NREUM={})).init={ajax:{deny_list:[\"bam-cell.nr-data.net\"]}};(window.NR'"
      ]
     },
     "execution_count": 32,
     "metadata": {},
     "output_type": "execute_result"
    }
   ],
   "source": [
    "url_get.content[1:500]"
   ]
  },
  {
   "cell_type": "markdown",
   "metadata": {},
   "source": [
    "As we can see we get a very unstructured and complex html, which actually contains the codes needed to show the webpages on your web browser. But we as human still confused what and where we can use that piece of code, so here where we use the beautifulsoup. Beautiful soup class will result a beautifulsoup object. Beautiful Soup transforms a complex HTML document into a complex tree of Python objects. \n",
    "\n",
    "Let's make Beautiful soup object and feel free to explore the object here."
   ]
  },
  {
   "cell_type": "code",
   "execution_count": 3,
   "metadata": {
    "ExecuteTime": {
     "end_time": "2020-01-13T05:12:23.808122Z",
     "start_time": "2020-01-13T05:12:23.292610Z"
    }
   },
   "outputs": [],
   "source": [
    "from bs4 import BeautifulSoup \n",
    "\n",
    "soup = BeautifulSoup(url_get.content,\"html.parser\")"
   ]
  },
  {
   "cell_type": "markdown",
   "metadata": {},
   "source": [
    "## Finding the right key to scrap the data & Extracting the right information"
   ]
  },
  {
   "cell_type": "markdown",
   "metadata": {},
   "source": [
    "Find the key and put the key into the `.find()` Put all the exploring the right key at this cell. To find the right key, we have to inspect element of the our resources website. Here, I use `tbody` as the key to get the whole information of the table that we want to scrap."
   ]
  },
  {
   "cell_type": "code",
   "execution_count": 4,
   "metadata": {
    "ExecuteTime": {
     "end_time": "2020-01-13T05:12:23.878904Z",
     "start_time": "2020-01-13T05:12:23.854974Z"
    }
   },
   "outputs": [
    {
     "name": "stdout",
     "output_type": "stream",
     "text": [
      "tbody>\n",
      " <tr>\n",
      "  <th class=\"font-semibold text-center\" scope=\"row\">\n",
      "   2021-06-30\n",
      "  </th>\n",
      "  <td class=\"text-center\">\n",
      "   $253,607,549,372\n",
      "  </td>\n",
      "  <td class=\"text-center\">\n",
      "   $27,149,143,847\n",
      "  </td>\n",
      "  <td class=\"text-center\">\n",
      "   $2,169.40\n",
      "  </td>\n",
      "  <td class=\"text-center\">\n",
      "   N/A\n",
      "  </td>\n",
      " </tr>\n",
      " <tr>\n",
      "  <th class=\"font-semibold text-center\" scope=\"row\">\n",
      "   2021-06-29\n",
      "  </th>\n",
      "  <td class=\"text-center\">\n",
      "   $243,040,539,437\n",
      "  </td>\n",
      "  <td class=\"text-center\">\n",
      "   $30,629,329,806\n",
      "  </td>\n",
      "  <td class=\"te\n"
     ]
    }
   ],
   "source": [
    "table = soup.find('tbody')\n",
    "print(table.prettify()[1:500])"
   ]
  },
  {
   "cell_type": "markdown",
   "metadata": {},
   "source": [
    "From the `table` above, we want to scrap two information such as date and volume. We can see that the right key to get the date is `<th class=\"font-semibold text-center\" scope=\"row\">`. So, we use `find_all()` to get all of the rows that we want. Furtermore, we will also use key  `<td class=\"text-center\">` to get the volume. "
   ]
  },
  {
   "cell_type": "code",
   "execution_count": 5,
   "metadata": {},
   "outputs": [
    {
     "data": {
      "text/plain": [
       "[<th class=\"font-semibold text-center\" scope=\"row\">2021-06-30</th>,\n",
       " <th class=\"font-semibold text-center\" scope=\"row\">2021-06-29</th>,\n",
       " <th class=\"font-semibold text-center\" scope=\"row\">2021-06-28</th>,\n",
       " <th class=\"font-semibold text-center\" scope=\"row\">2021-06-27</th>,\n",
       " <th class=\"font-semibold text-center\" scope=\"row\">2021-06-26</th>]"
      ]
     },
     "execution_count": 5,
     "metadata": {},
     "output_type": "execute_result"
    }
   ],
   "source": [
    "table.find_all('th', attrs={'class':'font-semibold text-center'})[:5]"
   ]
  },
  {
   "cell_type": "markdown",
   "metadata": {},
   "source": [
    "For the scrapping  process, to get the volume, notice that market cap, volume, open, and close is collected as a list here. Notice that the volume are in the index no 1, 5, 9, 13, etc.... We will use this information later in looping process. "
   ]
  },
  {
   "cell_type": "code",
   "execution_count": 6,
   "metadata": {},
   "outputs": [
    {
     "data": {
      "text/plain": [
       "<td class=\"text-center\">\n",
       "$30,629,329,806\n",
       "</td>"
      ]
     },
     "execution_count": 6,
     "metadata": {},
     "output_type": "execute_result"
    }
   ],
   "source": [
    "table.find_all('td', attrs={'class':'text-center'})[5]"
   ]
  },
  {
   "cell_type": "markdown",
   "metadata": {},
   "source": [
    "Finding row length."
   ]
  },
  {
   "cell_type": "code",
   "execution_count": 7,
   "metadata": {},
   "outputs": [
    {
     "data": {
      "text/plain": [
       "<th class=\"font-semibold text-center\" scope=\"row\">2021-06-29</th>"
      ]
     },
     "execution_count": 7,
     "metadata": {},
     "output_type": "execute_result"
    }
   ],
   "source": [
    "row = table.find_all('th', attrs={'class':'font-semibold text-center'})\n",
    "row_length = len(row)\n",
    "row_length\n",
    "row[1]"
   ]
  },
  {
   "cell_type": "code",
   "execution_count": 8,
   "metadata": {},
   "outputs": [
    {
     "data": {
      "text/plain": [
       "<td class=\"text-center\">\n",
       "$243,040,539,437\n",
       "</td>"
      ]
     },
     "execution_count": 8,
     "metadata": {},
     "output_type": "execute_result"
    }
   ],
   "source": [
    "table.find_all('td')[4]"
   ]
  },
  {
   "cell_type": "code",
   "execution_count": 12,
   "metadata": {},
   "outputs": [
    {
     "data": {
      "text/plain": [
       "[('2021-06-29', '$30,629,329,806'),\n",
       " ('2021-06-28', '$24,316,408,028'),\n",
       " ('2021-06-27', '$24,249,510,321'),\n",
       " ('2021-06-26', '$25,981,381,067'),\n",
       " ('2021-06-25', '$22,447,489,242'),\n",
       " ('2021-06-24', '$28,098,744,045'),\n",
       " ('2021-06-23', '$38,755,019,937'),\n",
       " ('2021-06-22', '$39,499,960,408'),\n",
       " ('2021-06-21', '$26,235,850,447'),\n",
       " ('2021-06-20', '$20,456,963,375'),\n",
       " ('2021-06-19', '$26,204,484,921'),\n",
       " ('2021-06-18', '$25,708,624,827'),\n",
       " ('2021-06-17', '$26,150,320,395'),\n",
       " ('2021-06-16', '$26,803,957,680'),\n",
       " ('2021-06-15', '$28,128,172,338'),\n",
       " ('2021-06-14', '$29,382,118,964'),\n",
       " ('2021-06-13', '$28,235,882,062'),\n",
       " ('2021-06-12', '$26,751,786,966'),\n",
       " ('2021-06-11', '$33,075,957,437'),\n",
       " ('2021-06-10', '$43,973,432,438')]"
      ]
     },
     "execution_count": 12,
     "metadata": {},
     "output_type": "execute_result"
    }
   ],
   "source": [
    "temp = [] #init\n",
    "\n",
    "for i in range(1, row_length):\n",
    "    \n",
    "    #get date \n",
    "    date = table.find_all('th', attrs={'class':'font-semibold text-center'})[i].text\n",
    "\n",
    "    #get volume \n",
    "    volume = table.find_all('td', attrs={'class':'text-center'})[i * 4 + 1].text\n",
    "    volume = volume.strip() #to remove excess white space\n",
    "    \n",
    "    temp.append((date,volume)) \n",
    "temp[:20]"
   ]
  },
  {
   "cell_type": "markdown",
   "metadata": {},
   "source": [
    "Do the scrapping process here (please change this markdown with your explanation)"
   ]
  },
  {
   "cell_type": "code",
   "execution_count": 11,
   "metadata": {},
   "outputs": [
    {
     "data": {
      "text/plain": [
       "[('2020-01-01', '$7,103,187,151'),\n",
       " ('2020-01-02', '$6,623,732,041'),\n",
       " ('2020-01-03', '$6,497,297,884'),\n",
       " ('2020-01-04', '$9,655,245,100'),\n",
       " ('2020-01-05', '$6,958,393,690'),\n",
       " ('2020-01-06', '$7,260,645,128'),\n",
       " ('2020-01-07', '$9,514,201,882'),\n",
       " ('2020-01-08', '$9,440,938,788'),\n",
       " ('2020-01-09', '$10,095,847,759'),\n",
       " ('2020-01-10', '$7,280,640,218')]"
      ]
     },
     "execution_count": 11,
     "metadata": {},
     "output_type": "execute_result"
    }
   ],
   "source": [
    "temp = temp[::-1]\n",
    "temp[:10]"
   ]
  },
  {
   "cell_type": "markdown",
   "metadata": {},
   "source": [
    "## Creating data frame & Data wrangling"
   ]
  },
  {
   "cell_type": "markdown",
   "metadata": {},
   "source": [
    "Put the array into dataframe"
   ]
  },
  {
   "cell_type": "code",
   "execution_count": 19,
   "metadata": {
    "ExecuteTime": {
     "end_time": "2020-01-13T05:12:41.517372Z",
     "start_time": "2020-01-13T05:12:29.130015Z"
    }
   },
   "outputs": [
    {
     "data": {
      "text/html": [
       "<div>\n",
       "<style scoped>\n",
       "    .dataframe tbody tr th:only-of-type {\n",
       "        vertical-align: middle;\n",
       "    }\n",
       "\n",
       "    .dataframe tbody tr th {\n",
       "        vertical-align: top;\n",
       "    }\n",
       "\n",
       "    .dataframe thead th {\n",
       "        text-align: right;\n",
       "    }\n",
       "</style>\n",
       "<table border=\"1\" class=\"dataframe\">\n",
       "  <thead>\n",
       "    <tr style=\"text-align: right;\">\n",
       "      <th></th>\n",
       "      <th>date</th>\n",
       "      <th>volume</th>\n",
       "    </tr>\n",
       "  </thead>\n",
       "  <tbody>\n",
       "    <tr>\n",
       "      <th>0</th>\n",
       "      <td>2021-06-29</td>\n",
       "      <td>$30,629,329,806</td>\n",
       "    </tr>\n",
       "    <tr>\n",
       "      <th>1</th>\n",
       "      <td>2021-06-28</td>\n",
       "      <td>$24,316,408,028</td>\n",
       "    </tr>\n",
       "    <tr>\n",
       "      <th>2</th>\n",
       "      <td>2021-06-27</td>\n",
       "      <td>$24,249,510,321</td>\n",
       "    </tr>\n",
       "    <tr>\n",
       "      <th>3</th>\n",
       "      <td>2021-06-26</td>\n",
       "      <td>$25,981,381,067</td>\n",
       "    </tr>\n",
       "    <tr>\n",
       "      <th>4</th>\n",
       "      <td>2021-06-25</td>\n",
       "      <td>$22,447,489,242</td>\n",
       "    </tr>\n",
       "  </tbody>\n",
       "</table>\n",
       "</div>"
      ],
      "text/plain": [
       "         date           volume\n",
       "0  2021-06-29  $30,629,329,806\n",
       "1  2021-06-28  $24,316,408,028\n",
       "2  2021-06-27  $24,249,510,321\n",
       "3  2021-06-26  $25,981,381,067\n",
       "4  2021-06-25  $22,447,489,242"
      ]
     },
     "execution_count": 19,
     "metadata": {},
     "output_type": "execute_result"
    }
   ],
   "source": [
    "import pandas as pd\n",
    "\n",
    "df = pd.DataFrame(temp, columns= ('date', 'volume'))\n",
    "df.head()"
   ]
  },
  {
   "cell_type": "markdown",
   "metadata": {},
   "source": [
    "We can see  that the data is not tidy and we need a little bit of cleaning. We checked the types of data for every column. We indentify that date and volume were not in the right type of data. Therefore, we changed the type of data as datetime and type of volume as float. But before that, we need to get rid the $ sign and `,` from the volume column. "
   ]
  },
  {
   "cell_type": "code",
   "execution_count": 20,
   "metadata": {},
   "outputs": [
    {
     "data": {
      "text/plain": [
       "date      object\n",
       "volume    object\n",
       "dtype: object"
      ]
     },
     "execution_count": 20,
     "metadata": {},
     "output_type": "execute_result"
    }
   ],
   "source": [
    "# check types of data for every columns \n",
    "df.dtypes"
   ]
  },
  {
   "cell_type": "code",
   "execution_count": 21,
   "metadata": {
    "ExecuteTime": {
     "end_time": "2020-01-13T05:12:59.165559Z",
     "start_time": "2020-01-13T05:12:58.910012Z"
    }
   },
   "outputs": [],
   "source": [
    "# let omit $ from the volume \n",
    "df['date'] = df['date'].astype('datetime64')\n",
    "df['volume'] = df['volume'].map(lambda x: x.lstrip('$'))\n",
    "df['volume'] = df['volume'].str.replace(\",\",\"\")\n",
    "df['volume'] = df['volume'].astype('float64')"
   ]
  },
  {
   "cell_type": "code",
   "execution_count": 22,
   "metadata": {},
   "outputs": [
    {
     "data": {
      "text/plain": [
       "date      datetime64[ns]\n",
       "volume           float64\n",
       "dtype: object"
      ]
     },
     "execution_count": 22,
     "metadata": {},
     "output_type": "execute_result"
    }
   ],
   "source": [
    "# final check for data types and nan value \n",
    "df.isna().sum()\n",
    "df.dtypes\n",
    "# df.info()"
   ]
  },
  {
   "cell_type": "markdown",
   "metadata": {},
   "source": [
    "Data visualisation\\\n",
    "We have cleaned time series data of the ethereum volume transaction. We want to know the volatility of the volume from month to month. Thus, we create a line plot to get the information that we wanted. Remember to set the index before making the plot."
   ]
  },
  {
   "cell_type": "code",
   "execution_count": 23,
   "metadata": {},
   "outputs": [],
   "source": [
    "df = df.set_index('date')"
   ]
  },
  {
   "cell_type": "code",
   "execution_count": 24,
   "metadata": {},
   "outputs": [
    {
     "data": {
      "text/plain": [
       "<AxesSubplot:xlabel='date'>"
      ]
     },
     "execution_count": 24,
     "metadata": {},
     "output_type": "execute_result"
    },
    {
     "data": {
      "image/png": "[encoded data removed]",
      "text/plain": [
       "<Figure size 432x288 with 1 Axes>"
      ]
     },
     "metadata": {
      "needs_background": "light"
     },
     "output_type": "display_data"
    }
   ],
   "source": [
    "df.plot()"
   ]
  },
  {
   "cell_type": "markdown",
   "metadata": {},
   "source": [
    "### Implementing your webscrapping to the flask dashboard\n",
    "\n",
    "- Copy paste all of your web scrapping process to the desired position on the `app.py`\n",
    "- Changing the title of the dasboard at `index.html`"
   ]
  },
  {
   "cell_type": "markdown",
   "metadata": {},
   "source": [
    "## Finishing This Notebook with Your Analysis and Conclusion\n",
    "\n",
    "First you can do start with making the data visualisation. "
   ]
  },
  {
   "cell_type": "code",
   "execution_count": 25,
   "metadata": {},
   "outputs": [
    {
     "name": "stdout",
     "output_type": "stream",
     "text": [
      "['Solarize_Light2', '_classic_test_patch', 'bmh', 'classic', 'dark_background', 'fast', 'fivethirtyeight', 'ggplot', 'grayscale', 'seaborn', 'seaborn-bright', 'seaborn-colorblind', 'seaborn-dark', 'seaborn-dark-palette', 'seaborn-darkgrid', 'seaborn-deep', 'seaborn-muted', 'seaborn-notebook', 'seaborn-paper', 'seaborn-pastel', 'seaborn-poster', 'seaborn-talk', 'seaborn-ticks', 'seaborn-white', 'seaborn-whitegrid', 'tableau-colorblind10']\n"
     ]
    },
    {
     "data": {
      "image/png": "[encoded data removed]",
      "text/plain": [
       "<Figure size 576x396 with 1 Axes>"
      ]
     },
     "metadata": {},
     "output_type": "display_data"
    }
   ],
   "source": [
    "import matplotlib.pyplot as plt\n",
    "print(plt.style.available)\n",
    "plt.style.use('seaborn')\n",
    "\n",
    "font1 = {'family':'serif','color':'blue','size':20}\n",
    "font2 = {'family':'serif','color':'darkred','size':15}\n",
    "\n",
    "\n",
    "\n",
    "ax = df.plot()\n",
    "ax.set_ylabel(\"Volume in USD\", fontdict=font2)\n",
    "ax.set_title(\"Ethereum Transaction\", fontdict=font1)\n",
    "ax.set_xlabel(\"Period\", fontdict=font2)\n",
    "plt.show()"
   ]
  },
  {
   "cell_type": "markdown",
   "metadata": {},
   "source": [
    "\n",
    "There are several insights that we can get from the line plot above: \n",
    "- 1. The volume of sales has been fluctuated from month to month \n",
    "- 2. There are two extreme spike of volume which are around September 2020 and Jan 2021 \n",
    "- 3. The average of the monthly sales is lower during 2020 compare to the monthly sales on 2021\n",
    "- 4. There were an increase of volume transaction since April 2021 and drop significantly after that \n",
    "- 5. In conclusion, the average of volume transaction is increasing  from 2020 to 2021 but the monthly transaction has been fluctuating significantly from time to time. \n",
    "\n",
    "We need further investigation to know the reason behind the extraordinary spike in ethereum sales  on September 2020 and Januari 2021. "
   ]
  }
 ],
 "metadata": {
  "interpreter": {
   "hash": "b0826dc63d825302040004a1de52d392f054ef4da18c48cc0e056f6bfbcdb94b"
  },
  "kernelspec": {
   "display_name": "Python 3.8.12 64-bit ('phoenix-capstones': conda)",
   "name": "python3"
  },
  "language_info": {
   "codemirror_mode": {
    "name": "ipython",
    "version": 3
   },
   "file_extension": ".py",
   "mimetype": "text/x-python",
   "name": "python",
   "nbconvert_exporter": "python",
   "pygments_lexer": "ipython3",
   "version": "3.8.12"
  }
 },
 "nbformat": 4,
 "nbformat_minor": 2
}
